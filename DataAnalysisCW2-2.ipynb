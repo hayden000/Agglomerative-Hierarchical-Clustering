{
 "cells": [
  {
   "cell_type": "code",
   "execution_count": 2,
   "id": "d009dfd9-0f80-41b7-a001-d3883e03ef69",
   "metadata": {
    "ExecuteTime": {
     "end_time": "2023-11-21T21:11:01.945766Z",
     "start_time": "2023-11-21T21:11:01.552238Z"
    }
   },
   "outputs": [],
   "source": [
    "import random\n",
    "import matplotlib.pyplot as plt\n",
    "# you are not allowed to import any other libraries"
   ]
  },
  {
   "cell_type": "markdown",
   "id": "98df37f0-09f9-4c96-8e5d-f7f8305cc284",
   "metadata": {
    "tags": []
   },
   "source": [
    "# Theory Part (40 Marks)"
   ]
  },
  {
   "cell_type": "code",
   "execution_count": 2,
   "outputs": [],
   "source": [
    "\n"
   ],
   "metadata": {
    "collapsed": false,
    "ExecuteTime": {
     "end_time": "2023-11-21T21:11:01.967706Z",
     "start_time": "2023-11-21T21:11:01.946004Z"
    }
   },
   "id": "1083b73b4c33efef"
  },
  {
   "cell_type": "code",
   "execution_count": 2,
   "outputs": [],
   "source": [
    "\n"
   ],
   "metadata": {
    "collapsed": false,
    "ExecuteTime": {
     "end_time": "2023-11-21T21:11:01.968215Z",
     "start_time": "2023-11-21T21:11:01.948177Z"
    }
   },
   "id": "6e604b5edd3cede4"
  },
  {
   "cell_type": "markdown",
   "id": "a697ec5d-d232-4a29-913d-98014c835b6b",
   "metadata": {},
   "source": [
    "Write your solution to Question 3 here."
   ]
  },
  {
   "cell_type": "markdown",
   "id": "35ef253e-c925-4ff8-a0d4-a64dfc6f0113",
   "metadata": {},
   "source": [
    "Write your answer to Question 4 (first part) here."
   ]
  },
  {
   "cell_type": "markdown",
   "id": "a9b79994-d72b-4665-8da4-d4237506bd78",
   "metadata": {},
   "source": [
    "Write your solution to Question 4 (second part) here."
   ]
  },
  {
   "cell_type": "markdown",
   "id": "39b1d923-b24a-4a7e-8ef6-0efdaa7ed52d",
   "metadata": {},
   "source": [
    "Write your solution to Question 5 here."
   ]
  },
  {
   "cell_type": "markdown",
   "id": "6c0e4666-37b3-4de1-86d3-2539f631eb9e",
   "metadata": {
    "tags": []
   },
   "source": [
    "# Practical Part (60 Marks)"
   ]
  },
  {
   "cell_type": "code",
   "execution_count": 3,
   "id": "40efc6ff-6419-4363-8e5a-63ae26d46c1f",
   "metadata": {
    "ExecuteTime": {
     "end_time": "2023-11-21T21:11:01.968800Z",
     "start_time": "2023-11-21T21:11:01.950856Z"
    }
   },
   "outputs": [
    {
     "name": "stdout",
     "output_type": "stream",
     "text": [
      "[[-13, 39, 6], [-32, -5, -19], [-14, -5, 36], [-8, 10, -14], [-1, 27, 31], [-3, -23, -39], [26, 33, -47], [50, 37, 15], [-47, 6, 6], [49, -28, -17], [2, 51, 7], [4, -49, -7], [12, -25, -8], [-17, 44, -5], [43, -29, -3], [4, 27, -38], [39, -40, 23], [-13, 3, 43], [-3, 48, -34], [46, 0, 28], [-16, 29, 24], [48, -32, 28], [26, -11, -28], [39, 41, -3], [-45, 27, 43], [20, 32, -30], [-8, -26, 41], [-47, -32, -5], [40, 29, -19], [-23, -42, -6], [-17, -21, 51], [-2, 48, -20], [-11, 0, 10], [10, -33, 20], [-3, -11, -22], [0, 49, -7], [-5, -10, -21], [-24, -16, 34], [12, 21, -3], [26, 24, -28], [-1, 1, 5], [-19, -3, 28], [50, -39, 23], [19, -25, 45], [39, -43, 6], [30, -6, -28], [-50, 38, -6], [-33, -9, 50], [32, -12, 13], [48, 47, -47], [49, 36, -29], [-29, 20, -38], [-41, -44, -22], [39, 39, 14], [-47, -20, 26], [-25, 30, -36], [-48, 1, -33], [-6, 17, -29], [-24, -18, -17], [25, 14, -26], [43, -37, -28], [49, -42, -18], [-41, 21, -43], [43, 42, -8], [47, -20, -33], [34, 8, -35], [13, 3, -14], [1, 25, 35], [-27, 49, -39], [-17, -49, 22], [-25, 33, 18], [35, -34, 17], [-38, 48, 23], [-25, -22, -40], [-45, 27, -46], [-46, -42, 47], [-11, 50, 44], [2, 16, 42], [3, 38, -28], [32, 1, 17], [-27, 31, -32], [12, 20, -4], [-30, 35, 47], [1, 7, 16], [-49, -48, -37], [-22, 41, 17], [19, 4, -50], [-11, -39, -41], [11, -39, -32], [-17, -29, -49], [28, -22, -48], [26, 18, 17], [5, 30, 21], [-40, -38, 46], [-50, 17, 49], [24, 28, -20], [39, 16, 13], [10, -17, -50], [32, 48, 49]]\n"
     ]
    }
   ],
   "source": [
    "import random\n",
    "random.seed(3001)\n",
    "r=[]\n",
    "for j in range (0,99):\n",
    "    r.append([random.randint(-50, 51),random.randint(-50, 51),random.randint(-50, 51)])\n",
    "print(r)"
   ]
  },
  {
   "cell_type": "code",
   "execution_count": 4,
   "id": "54c651fd-91fc-4f1b-834b-009de9f2435b",
   "metadata": {
    "ExecuteTime": {
     "end_time": "2023-11-21T21:11:01.968921Z",
     "start_time": "2023-11-21T21:11:01.953930Z"
    }
   },
   "outputs": [],
   "source": [
    "# Write your code for Task 2 here; you may use the following template\n",
    "def distance(point1, point2):\n",
    "    square_differences = []\n",
    "    for i in range(0, len(point1)):\n",
    "        square_differences.append(abs(point2[i] - point1[i]) * abs(point2[i] - point1[i]))\n",
    "    sum = 0\n",
    "    for i in square_differences:\n",
    "        sum = sum + i\n",
    "    distance = sum**0.5\n",
    "    return distance"
   ]
  },
  {
   "cell_type": "code",
   "execution_count": 5,
   "id": "3545dbc2-21cf-4bde-8b80-5874928061d1",
   "metadata": {
    "ExecuteTime": {
     "end_time": "2023-11-21T21:11:01.969004Z",
     "start_time": "2023-11-21T21:11:01.957708Z"
    }
   },
   "outputs": [],
   "source": [
    "# Write your code for Task 3 here; you may use the following template\n",
    "class Node:\n",
    "    def __init__(self, cluster, height):\n",
    "        self.cluster=cluster\n",
    "        self.height=height\n",
    "currentClusters=[]\n",
    "for i in r:\n",
    "    currentClusters.append(Node([i],0))"
   ]
  },
  {
   "cell_type": "code",
   "execution_count": 26,
   "id": "5155a284-bc14-42d4-b655-a81a8a93dc3e",
   "metadata": {
    "ExecuteTime": {
     "end_time": "2023-11-21T21:59:34.968195Z",
     "start_time": "2023-11-21T21:59:34.959635Z"
    }
   },
   "outputs": [
    {
     "name": "stdout",
     "output_type": "stream",
     "text": [
      "5.196152422706632\n"
     ]
    }
   ],
   "source": [
    "# Write your code for Task 4 here; you may use the following template\n",
    "def singleLinkage(node1, node2):\n",
    "    lowest=float('inf')\n",
    "    node1cluster=node1.cluster\n",
    "    node2cluster=node2.cluster\n",
    "    for i in node1cluster:\n",
    "        for j in node2cluster:\n",
    "            value = distance(i,j)\n",
    "            if value <lowest:\n",
    "                lowest=value\n",
    "    return lowest\n",
    "def completeLinkage(node1, node2):\n",
    "    max=0\n",
    "    node1cluster=node1.cluster\n",
    "    node2cluster=node2.cluster\n",
    "    for i in node1cluster:\n",
    "        for j in node2cluster:\n",
    "            value = distance(i,j)\n",
    "            if value >max:\n",
    "                max=value            \n",
    "\n",
    "def averageLinkage(node1, node2):\n",
    "    sum=0\n",
    "    count=0\n",
    "    node1cluster=node1.cluster\n",
    "    node2cluster=node2.cluster\n",
    "    for i in node1cluster:\n",
    "        for j in node2cluster:\n",
    "            sum = sum +distance(i,j)\n",
    "            count=count+1\n",
    "    return sum/count\n",
    "def centroidLinkage(node1, node2):\n",
    "    node1cluster = node1.cluster\n",
    "    node2cluster = node2.cluster\n",
    "    dimension1average = []\n",
    "    for i in range(len(node1cluster[0])):\n",
    "        dimensionsum = 0\n",
    "        dimensioncount = 0\n",
    "        for k in range(0,len(node1cluster)):\n",
    "            dimensionsum =dimensionsum+ node1cluster[k][i]\n",
    "            dimensioncount =dimensioncount+1\n",
    "        dimension1average.append(dimensionsum / dimensioncount)\n",
    "    dimension2average = []\n",
    "    for i in range(len(node2cluster[0])):\n",
    "        dimensionsum = 0\n",
    "        dimensioncount = 0\n",
    "        for k in range(0,len(node2cluster)):\n",
    "            dimensionsum =dimensionsum+ node2cluster[k][i]\n",
    "            dimensioncount =dimensioncount+1\n",
    "        dimension2average.append(dimensionsum / dimensioncount)\n",
    "    return distance(dimension1average,dimension2average)"
   ]
  },
  {
   "cell_type": "code",
   "execution_count": 7,
   "id": "749a1ef5-a766-4730-a800-9abcb4e9a252",
   "metadata": {
    "ExecuteTime": {
     "end_time": "2023-11-21T21:11:01.995478Z",
     "start_time": "2023-11-21T21:11:01.966851Z"
    }
   },
   "outputs": [
    {
     "ename": "SyntaxError",
     "evalue": "incomplete input (4009068501.py, line 6)",
     "output_type": "error",
     "traceback": [
      "\u001B[0;36m  Cell \u001B[0;32mIn[7], line 6\u001B[0;36m\u001B[0m\n\u001B[0;31m    #   to form a new Node with height h\u001B[0m\n\u001B[0m                                        ^\u001B[0m\n\u001B[0;31mSyntaxError\u001B[0m\u001B[0;31m:\u001B[0m incomplete input\n"
     ]
    }
   ],
   "source": [
    "# Write your code for Task 5 here; you may use the following template\n",
    "def clustersToMerge(currentClusters, linkage): # when this function is used,\n",
    "    #   linkage should be one of the four linkage functions you implemented for Task 4\n",
    "    # write the content of this function\n",
    "    # returns a tuple (i,j,h) which indicates that the i-th and j-th nodes should be merged next\n",
    "    #   to form a new Node with height h"
   ]
  },
  {
   "cell_type": "code",
   "execution_count": null,
   "id": "7a485dc1-57c7-4e0b-b3fe-6d4717b36e8a",
   "metadata": {
    "ExecuteTime": {
     "start_time": "2023-11-21T21:11:01.971402Z"
    }
   },
   "outputs": [],
   "source": [
    "# Write your code for Task 6 here; you may use the following template\n",
    "def ahc(observations, linkage):\n",
    "    # write the content of this function\n",
    "    # returns the root node of the AHC tree"
   ]
  },
  {
   "cell_type": "code",
   "execution_count": null,
   "id": "0cdc4a79-e75d-451b-a88f-c6fc4e3ce72f",
   "metadata": {
    "ExecuteTime": {
     "start_time": "2023-11-21T21:11:01.973342Z"
    }
   },
   "outputs": [],
   "source": [
    "# Write your code for Task 7 here; you may use the following template\n",
    "def cutTree(rootNode, k):\n",
    "    # write the content of this function\n",
    "    # returns the k clusters obtained by cutting the AHC tree at an appropriate height\n",
    "\n",
    "# Write your code for generating the plots here"
   ]
  },
  {
   "cell_type": "markdown",
   "id": "023bde9a-0641-4e96-8b89-d3dfd22ef9b5",
   "metadata": {},
   "source": [
    "Write your observations from Task 7 here."
   ]
  }
 ],
 "metadata": {
  "kernelspec": {
   "display_name": "Python 3",
   "language": "python",
   "name": "python3"
  },
  "language_info": {
   "codemirror_mode": {
    "name": "ipython",
    "version": 3
   },
   "file_extension": ".py",
   "mimetype": "text/x-python",
   "name": "python",
   "nbconvert_exporter": "python",
   "pygments_lexer": "ipython3",
   "version": "3.8.8"
  }
 },
 "nbformat": 4,
 "nbformat_minor": 5
}
