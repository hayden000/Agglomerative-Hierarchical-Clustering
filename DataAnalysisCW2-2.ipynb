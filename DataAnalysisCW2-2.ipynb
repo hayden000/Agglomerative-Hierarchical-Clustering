{
 "cells": [
  {
   "cell_type": "code",
   "execution_count": 21,
   "id": "d009dfd9-0f80-41b7-a001-d3883e03ef69",
   "metadata": {
    "ExecuteTime": {
     "end_time": "2023-12-01T04:02:51.956470Z",
     "start_time": "2023-12-01T04:02:51.933864Z"
    }
   },
   "outputs": [],
   "source": [
    "\n",
    "# you are not allowed to import any other libraries"
   ]
  },
  {
   "cell_type": "markdown",
   "id": "98df37f0-09f9-4c96-8e5d-f7f8305cc284",
   "metadata": {
    "tags": []
   },
   "source": [
    "# Theory Part (40 Marks)"
   ]
  },
  {
   "cell_type": "code",
   "execution_count": 21,
   "outputs": [],
   "source": [
    "\n"
   ],
   "metadata": {
    "collapsed": false,
    "ExecuteTime": {
     "end_time": "2023-12-01T04:02:51.992925Z",
     "start_time": "2023-12-01T04:02:51.941084Z"
    }
   },
   "id": "1083b73b4c33efef"
  },
  {
   "cell_type": "code",
   "execution_count": 21,
   "outputs": [],
   "source": [
    "\n"
   ],
   "metadata": {
    "collapsed": false,
    "ExecuteTime": {
     "end_time": "2023-12-01T04:02:51.993249Z",
     "start_time": "2023-12-01T04:02:51.944152Z"
    }
   },
   "id": "6e604b5edd3cede4"
  },
  {
   "cell_type": "markdown",
   "id": "a697ec5d-d232-4a29-913d-98014c835b6b",
   "metadata": {},
   "source": [
    "Write your solution to Question 3 here."
   ]
  },
  {
   "cell_type": "markdown",
   "id": "35ef253e-c925-4ff8-a0d4-a64dfc6f0113",
   "metadata": {},
   "source": [
    "Write your answer to Question 4 (first part) here."
   ]
  },
  {
   "cell_type": "markdown",
   "id": "a9b79994-d72b-4665-8da4-d4237506bd78",
   "metadata": {},
   "source": [
    "Write your solution to Question 4 (second part) here."
   ]
  },
  {
   "cell_type": "markdown",
   "id": "39b1d923-b24a-4a7e-8ef6-0efdaa7ed52d",
   "metadata": {},
   "source": [
    "Write your solution to Question 5 here."
   ]
  },
  {
   "cell_type": "markdown",
   "id": "6c0e4666-37b3-4de1-86d3-2539f631eb9e",
   "metadata": {
    "tags": []
   },
   "source": [
    "# Practical Part (60 Marks)"
   ]
  },
  {
   "cell_type": "code",
   "execution_count": 22,
   "id": "40efc6ff-6419-4363-8e5a-63ae26d46c1f",
   "metadata": {
    "ExecuteTime": {
     "end_time": "2023-12-01T04:02:52.040502Z",
     "start_time": "2023-12-01T04:02:51.952482Z"
    }
   },
   "outputs": [
    {
     "name": "stdout",
     "output_type": "stream",
     "text": [
      "[[-13, 39, 6], [-32, -5, -19], [-14, -5, 36], [-8, 10, -14], [-1, 27, 31], [-3, -23, -39], [26, 33, -47], [50, 37, 15], [-47, 6, 6], [49, -28, -17], [2, 7, 4], [-49, -7, 12], [-25, -8, -17], [44, -5, 43], [-29, -3, 4], [27, -38, 39], [-40, 23, -13], [3, 43, -3], [48, -34, 46], [0, 28, -16], [29, 24, 48], [-32, 28, 26], [-11, -28, 39], [41, -3, -45], [27, 43, 20], [32, -30, -8], [-26, 41, -47], [-32, -5, 40], [29, -19, -23], [-42, -6, -17], [-21, -2, 48], [-20, -11, 0], [10, 10, -33], [20, -3, -11], [-22, 0, 49], [-7, -5, -10], [-21, -24, -16], [34, 12, 21], [-3, 26, 24], [-28, -1, 1], [5, -19, -3], [28, 50, -39], [23, 19, -25], [45, 39, -43], [6, 30, -6], [-28, -50, 38], [-6, -33, -9], [50, 32, -12], [13, 48, 47], [-47, 49, 36], [-29, -29, 20], [-38, -41, -44], [-22, 39, 39], [14, -47, -20], [26, -25, 30], [-36, -48, 1], [-33, -6, 17], [-29, -24, -18], [-17, 25, 14], [-26, 43, -37], [-28, 49, -42], [-18, -41, 21], [-43, 43, 42], [-8, 47, -20], [-33, 34, 8], [-35, 13, 3], [-14, 1, 25], [35, -27, 49], [-39, -17, -49], [22, -25, 33], [18, 35, -34], [17, -38, 48], [23, -25, -22], [-40, -45, 27], [-46, -46, -42], [47, -11, 50], [44, 2, 16], [42, 3, 38], [-28, 32, 1], [17, -27, 31], [-32, 12, 20], [-4, -30, 35], [47, 1, 7], [16, -49, -48], [-37, -22, 41], [17, 19, 4], [-50, -11, -39], [-41, 11, -39], [-32, -17, -29], [-49, 28, -22], [-48, 26, 18], [17, 5, 30], [21, -40, -38], [46, -50, 17], [49, 24, 28], [-20, 39, 16], [13, 10, -17], [-50, 32, 48], [49, 41, -7]]\n"
     ]
    }
   ],
   "source": [
    "import random\n",
    "import matplotlib.pyplot as plt\n",
    "from matplotlib import *\n",
    "random.seed(3001)\n",
    "r = []\n",
    "for j in range(0, 99):\n",
    "    r.append([random.randint(-50, 50), random.randint(-50, 50), random.randint(-50, 50)])\n",
    "print(r)"
   ]
  },
  {
   "cell_type": "code",
   "execution_count": 23,
   "id": "54c651fd-91fc-4f1b-834b-009de9f2435b",
   "metadata": {
    "ExecuteTime": {
     "end_time": "2023-12-01T04:02:52.055479Z",
     "start_time": "2023-12-01T04:02:51.957407Z"
    }
   },
   "outputs": [],
   "source": [
    "# Write your code for Task 2 here; you may use the following template\n",
    "def distance(point1, point2):\n",
    "    square_differences = []\n",
    "    for i in range(0, len(point1)):\n",
    "        square_differences.append(abs(point2[i] - point1[i]) * abs(point2[i] - point1[i]))\n",
    "    sum = 0\n",
    "    for i in square_differences:\n",
    "        sum = sum + i\n",
    "    distance = sum ** 0.5\n",
    "    return distance"
   ]
  },
  {
   "cell_type": "code",
   "execution_count": 24,
   "id": "3545dbc2-21cf-4bde-8b80-5874928061d1",
   "metadata": {
    "ExecuteTime": {
     "end_time": "2023-12-01T04:02:52.055669Z",
     "start_time": "2023-12-01T04:02:51.962551Z"
    }
   },
   "outputs": [],
   "source": [
    "# Write your code for Task 3 here; you may use the following template\n",
    "class Node:\n",
    "    def __init__(self, x):\n",
    "        self.cluster = [x]\n",
    "        self.height = 0\n",
    "        self.rightChild = None\n",
    "        self.leftChild = None\n",
    "currentClusters = []\n",
    "for i in r:\n",
    "    currentClusters.append(Node(i))"
   ]
  },
  {
   "cell_type": "code",
   "execution_count": 25,
   "id": "5155a284-bc14-42d4-b655-a81a8a93dc3e",
   "metadata": {
    "ExecuteTime": {
     "end_time": "2023-12-01T04:02:52.055727Z",
     "start_time": "2023-12-01T04:02:51.969960Z"
    }
   },
   "outputs": [],
   "source": [
    "# Write your code for Task 4 here; you may use the following template\n",
    "def singleLinkage(node1, node2):\n",
    "    lowest = float('inf')\n",
    "    node1cluster = node1.cluster\n",
    "    node2cluster = node2.cluster\n",
    "    for i in node1cluster:\n",
    "        for j in node2cluster:\n",
    "            value = distance(i, j)\n",
    "            if value < lowest:\n",
    "                lowest = value\n",
    "    return lowest\n",
    "def completeLinkage(node1, node2):\n",
    "    max = 0\n",
    "    node1cluster = node1.cluster\n",
    "    node2cluster = node2.cluster\n",
    "    for i in node1cluster:\n",
    "        for j in node2cluster:\n",
    "            value = distance(i, j)\n",
    "            if value > max:\n",
    "                max = value\n",
    "    return max\n",
    "def averageLinkage(node1, node2):\n",
    "    sum = 0\n",
    "    count = 0\n",
    "    node1cluster = node1.cluster\n",
    "    node2cluster = node2.cluster\n",
    "    for i in node1cluster:\n",
    "        for j in node2cluster:\n",
    "            sum = sum + distance(i, j)\n",
    "            count = count + 1\n",
    "    return sum / count\n",
    "def centroidLinkage(node1, node2):\n",
    "    node1cluster = node1.cluster\n",
    "    node2cluster = node2.cluster\n",
    "    dimension1average = []\n",
    "    for i in range(0, len(node1cluster[0])):\n",
    "        dimensionsum = 0\n",
    "        dimensioncount = 0\n",
    "        for j in range(0, len(node1cluster)):\n",
    "            dimensionsum = dimensionsum + node1cluster[j][i]\n",
    "            dimensioncount = dimensioncount + 1\n",
    "        dimension1average.append(dimensionsum / dimensioncount)\n",
    "    dimension2average = []\n",
    "    for i in range(0, len(node2cluster[0])):\n",
    "        dimensionsum = 0\n",
    "        dimensioncount = 0\n",
    "        for j in range(0, len(node2cluster)):\n",
    "            dimensionsum = dimensionsum + node2cluster[j][i]\n",
    "            dimensioncount = dimensioncount + 1\n",
    "        dimension2average.append(dimensionsum / dimensioncount)\n",
    "    return distance(dimension1average, dimension2average)"
   ]
  },
  {
   "cell_type": "code",
   "execution_count": 26,
   "id": "749a1ef5-a766-4730-a800-9abcb4e9a252",
   "metadata": {
    "ExecuteTime": {
     "end_time": "2023-12-01T04:02:52.055784Z",
     "start_time": "2023-12-01T04:02:51.974742Z"
    }
   },
   "outputs": [],
   "source": [
    "# Write your code for Task 5 here; you may use the following template\n",
    "def clustersToMerge(currentClusters, linkage):  # when this function is used,\n",
    "    low1 = 0\n",
    "    low2 = 0\n",
    "    minvalue = float('inf')\n",
    "    for i in range(0, len(currentClusters)):\n",
    "        for j in range(i + 1, len(currentClusters)):\n",
    "            linkval = linkage(currentClusters[i], currentClusters[j])\n",
    "            if linkval < minvalue:\n",
    "                low1 = i\n",
    "                low2 = j\n",
    "                minvalue = linkval\n",
    "    return low1, low2, minvalue\n",
    "#   linkage should be one of the four linkage functions you implemented for Task 4\n",
    "# write the content of this function\n",
    "# returns a tuple (i,j,h) which indicates that the i-th and j-th nodes should be merged next\n",
    "#   to form a new Node with height h"
   ]
  },
  {
   "cell_type": "code",
   "execution_count": 27,
   "id": "7a485dc1-57c7-4e0b-b3fe-6d4717b36e8a",
   "metadata": {
    "ExecuteTime": {
     "end_time": "2023-12-01T04:02:52.056837Z",
     "start_time": "2023-12-01T04:02:51.978355Z"
    }
   },
   "outputs": [],
   "source": [
    "# Write your code for Task 6 here; you may use the following template\n",
    "def ahc(observations, linkage):\n",
    "    clusters = []\n",
    "    for i in observations:\n",
    "        clusters.append(Node(i))\n",
    "    while len(clusters) >= 2:\n",
    "        i, j, k = clustersToMerge(clusters, linkage)\n",
    "        cluster1 = clusters[i]\n",
    "        cluster2 = clusters[j]\n",
    "        cluster1 = cluster1.cluster\n",
    "        cluster2 = cluster2.cluster\n",
    "        joined = Node(cluster1+cluster2)\n",
    "        joined.height=k\n",
    "        joined.leftChild = cluster1\n",
    "        joined.rightChild=cluster2\n",
    "        clusters.append(joined)\n",
    "        clusters.remove(cluster1)\n",
    "        clusters.remove(cluster2)\n",
    "    return clusters[0]\n",
    "# write the content of this function\n",
    "# returns the root node of the AHC tree"
   ]
  },
  {
   "cell_type": "code",
   "execution_count": 28,
   "id": "0cdc4a79-e75d-451b-a88f-c6fc4e3ce72f",
   "metadata": {
    "ExecuteTime": {
     "end_time": "2023-12-01T04:02:52.056903Z",
     "start_time": "2023-12-01T04:02:51.981083Z"
    }
   },
   "outputs": [],
   "source": [
    "# # Write your code for Task 7 here; you may use the following template\n",
    "# def cutTree(rootNode, k):\n",
    "#     categories = rootNode.cluster\n",
    "#     rootCatagory = categories[0]\n",
    "#     category=[]\n",
    "#     height=rootNode.depth\n",
    "#     # left=rootNode.leftChild\n",
    "#     # right=rootNode.rightChild\n",
    "#     for i in rootCatagory:\n",
    "#         category.append(-(float(\"inf\")))\n",
    "#     def iddls(node, depth, category):\n",
    "#         if node != None and depth<= 0:\n",
    "#             items=node.cluster\n",
    "#             for i in items:\n",
    "#                 category[i]=len(category)+1\n",
    "#         else:\n",
    "#             iddls(node.leftChild,abs((node.leftChild)-depth))\n",
    "#             iddls(node.rightChild,abs((node.rightChild)-depth))\n",
    "#     iddls(rootNode,height,category)\n",
    "#     category=set(category)\n",
    "#     category=list(category)\n",
    "#     allClusters=[]\n",
    "#     for i in category:\n",
    "#         nums=[]\n",
    "#         for j, k in enumerate(category):\n",
    "#             if i==k:\n",
    "#                 nums.append(i+1)\n",
    "#         allClusters.append(nums)\n",
    "#         k_items = []\n",
    "#         for i in range(1, k):\n",
    "#             max_item = None\n",
    "#             max_value = -float('inf')\n",
    "#             for item, value in allClusters:\n",
    "#                 if value > max_value:\n",
    "#                     max_value = value\n",
    "#                     max_item = item\n",
    "#         \n",
    "#             k_items.append(max_item)\n",
    "# # write the content of this function\n",
    "# # returns the k clusters obtained by cutting the AHC tree at an appropriate height\n",
    "# for i in clusters:\n",
    "#     \n",
    "# # Write your code for generating the plots here\n",
    "# \n",
    "# def cutTree(rootNode, k):\n",
    "#     categories = rootNode.cluster\n",
    "#     rootCatagory = categories[0]\n",
    "#     category = []\n",
    "#     height = rootNode.depth\n",
    "#     # left = rootNode.leftChild\n",
    "#     # right = rootNode.rightChild\n",
    "# \n",
    "#     for i in rootCatagory:\n",
    "#         category.append(-float('inf'))\n",
    "# \n",
    "#     def iddls(node, depth, category):\n",
    "#         if node is not None and depth <= 0:\n",
    "#             items = node.cluster\n",
    "#             for i in items:\n",
    "#                 category[i] = len(category) + 1\n",
    "#         else:\n",
    "#             iddls(node.leftChild, abs((node.leftChild) - depth))\n",
    "#             iddls(node.rightChild, abs((node.rightChild) - depth))\n",
    "# \n",
    "#     iddls(rootNode, height, category)\n",
    "#     category = set(category)\n",
    "#     category = list(category)\n",
    "#     allClusters = []\n",
    "# \n",
    "#     for i in category:\n",
    "#         nums = []\n",
    "#         for j, k in enumerate(category):\n",
    "#             if i == k:\n",
    "#                 nums.append(j)\n",
    "#         allClusters.append(nums)\n",
    "# \n",
    "#     k_items = []\n",
    "# \n",
    "#     for i in range(1, k + 1):\n",
    "#         max_item = None\n",
    "#         max_value = -float('inf')\n",
    "# \n",
    "#         for item, value in allClusters:\n",
    "#             if len(item) > max_value:\n",
    "#                 max_value = len(item)\n",
    "#                 max_item = item\n",
    "# \n",
    "#         k_items.append(max_item)\n",
    "# \n",
    "#     return k_items\n",
    "# \n",
    "# \n",
    "\n",
    "\n"
   ]
  },
  {
   "cell_type": "code",
   "execution_count": 29,
   "outputs": [
    {
     "ename": "ValueError",
     "evalue": "list.remove(x): x not in list",
     "output_type": "error",
     "traceback": [
      "\u001B[0;31m---------------------------------------------------------------------------\u001B[0m",
      "\u001B[0;31mValueError\u001B[0m                                Traceback (most recent call last)",
      "Cell \u001B[0;32mIn[29], line 29\u001B[0m\n\u001B[1;32m     26\u001B[0m     rands\u001B[38;5;241m.\u001B[39mappend([random\u001B[38;5;241m.\u001B[39mrandint(\u001B[38;5;241m-\u001B[39m\u001B[38;5;241m50\u001B[39m, \u001B[38;5;241m50\u001B[39m), random\u001B[38;5;241m.\u001B[39mrandint(\u001B[38;5;241m-\u001B[39m\u001B[38;5;241m50\u001B[39m, \u001B[38;5;241m50\u001B[39m), random\u001B[38;5;241m.\u001B[39mrandint(\u001B[38;5;241m-\u001B[39m\u001B[38;5;241m50\u001B[39m, \u001B[38;5;241m50\u001B[39m)])\n\u001B[1;32m     28\u001B[0m trees\u001B[38;5;241m=\u001B[39m[]\n\u001B[0;32m---> 29\u001B[0m trees\u001B[38;5;241m.\u001B[39mappend(ahc(rands,singleLinkage))\n\u001B[1;32m     30\u001B[0m trees\u001B[38;5;241m.\u001B[39mappend(ahc(rands,averageLinkage))\n\u001B[1;32m     31\u001B[0m trees\u001B[38;5;241m.\u001B[39mappend(ahc(rands,centroidLinkage))\n",
      "Cell \u001B[0;32mIn[27], line 17\u001B[0m, in \u001B[0;36mahc\u001B[0;34m(observations, linkage)\u001B[0m\n\u001B[1;32m     15\u001B[0m     joined\u001B[38;5;241m.\u001B[39mrightChild\u001B[38;5;241m=\u001B[39mcluster2\n\u001B[1;32m     16\u001B[0m     clusters\u001B[38;5;241m.\u001B[39mappend(joined)\n\u001B[0;32m---> 17\u001B[0m     clusters\u001B[38;5;241m.\u001B[39mremove(cluster1)\n\u001B[1;32m     18\u001B[0m     clusters\u001B[38;5;241m.\u001B[39mremove(cluster2)\n\u001B[1;32m     19\u001B[0m \u001B[38;5;28;01mreturn\u001B[39;00m clusters[\u001B[38;5;241m0\u001B[39m]\n",
      "\u001B[0;31mValueError\u001B[0m: list.remove(x): x not in list"
     ]
    }
   ],
   "source": [
    "import matplotlib.pyplot as plt\n",
    "from mpl_toolkits.mplot3d import Axes3D\n",
    "def cutTree(root,k):\n",
    "    clusters=[root]\n",
    "    if k<=0:\n",
    "        result=[]\n",
    "        return result\n",
    "    while (len(clusters)<k):\n",
    "        depth=0\n",
    "        for i in range (0,len(clusters)):\n",
    "            if depth<=clusters[i].height:\n",
    "                max_item =clusters[i]\n",
    "        clusters.remove(max_item)\n",
    "        if max_item.leftChild is not None:\n",
    "            if max_item.rightChild is not None:\n",
    "                clusters.append(max_item.rightChild)\n",
    "                clusters.append(max_item.leftChild)\n",
    "        else:\n",
    "            clusters.append(max_item)\n",
    "    output=[]\n",
    "    for i in clusters:\n",
    "        output.append(i.cluster)\n",
    "    return output\n",
    "rands = []\n",
    "for j in range(0, 99):\n",
    "    rands.append([random.randint(-50, 50), random.randint(-50, 50), random.randint(-50, 50)])\n",
    "\n",
    "trees=[]\n",
    "trees.append(ahc(rands,singleLinkage))\n",
    "trees.append(ahc(rands,averageLinkage))\n",
    "trees.append(ahc(rands,centroidLinkage))\n",
    "trees.append(ahc(rands,completeLinkage))\n",
    "tree=1\n",
    "graph = plt.figure()\n",
    "for i in trees:\n",
    "    clusters = cutTree(i, 5)\n",
    "    j = graph.add_subplot(4, 1, tree, projection='3d')\n",
    "    for i, cluster in enumerate(clusters):\n",
    "        j.scatter(*(zip(*cluster)))\n",
    "    j.legend()\n",
    "    tree =tree+1\n",
    "plt.show()"
   ],
   "metadata": {
    "collapsed": false,
    "ExecuteTime": {
     "end_time": "2023-12-01T04:02:52.057953Z",
     "start_time": "2023-12-01T04:02:51.990738Z"
    }
   },
   "id": "8f348556551f9ca9"
  },
  {
   "cell_type": "markdown",
   "id": "023bde9a-0641-4e96-8b89-d3dfd22ef9b5",
   "metadata": {},
   "source": [
    "Write your observations from Task 7 here."
   ]
  }
 ],
 "metadata": {
  "kernelspec": {
   "display_name": "Python 3",
   "language": "python",
   "name": "python3"
  },
  "language_info": {
   "codemirror_mode": {
    "name": "ipython",
    "version": 3
   },
   "file_extension": ".py",
   "mimetype": "text/x-python",
   "name": "python",
   "nbconvert_exporter": "python",
   "pygments_lexer": "ipython3",
   "version": "3.8.8"
  }
 },
 "nbformat": 4,
 "nbformat_minor": 5
}
